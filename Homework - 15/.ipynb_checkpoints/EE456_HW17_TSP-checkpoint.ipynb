{
 "cells": [
  {
   "cell_type": "markdown",
   "metadata": {},
   "source": [
    "#### EE456 | Traveling Salesperson Problem\n",
    "### Aishwarye Omer | ado5146@psu.edu"
   ]
  },
  {
   "cell_type": "code",
   "execution_count": 1,
   "metadata": {},
   "outputs": [],
   "source": [
    "import numpy as np\n",
    "from random import random\n",
    "\n",
    "##############################\n",
    "#    calculating penalties   #\n",
    "##############################\n",
    "\n",
    "def cal_penalty(tour_matrix_1):\n",
    "    \n",
    "    #################################################\n",
    "    # penalty for visiting multiple cities in a day #\n",
    "    #################################################\n",
    "    P_multiple_cities = 0\n",
    "    combinations = 0\n",
    "    summation = 0\n",
    "    for i in range(10):\n",
    "        for j in range(10):\n",
    "            summation = summation + tour_matrix_1[j][i]\n",
    "        combinations = (summation * (summation-1)) / 2\n",
    "        summation = 0\n",
    "        P_multiple_cities = P_multiple_cities + combinations\n",
    "    P_multiple_cities = C/2 *  P_multiple_cities\n",
    "    \n",
    "    #######################################\n",
    "    # penalty for multiple days in a city #\n",
    "    #######################################\n",
    "    P_multiple_day = 0\n",
    "    for i in range(10):\n",
    "        for j in range(10):\n",
    "            summation = summation + tour_matrix_1[i][j]\n",
    "        combinations = summation * (summation-1) / 2\n",
    "        summation = 0\n",
    "        P_multiple_day = P_multiple_day + combinations\n",
    "    P_multiple_day = D/2 *  P_multiple_day\n",
    "    \n",
    "    ###################################\n",
    "    # penalty for skipping a city ROW #\n",
    "    ###################################\n",
    "    P_skipping_city = 0\n",
    "    for i in range(10):\n",
    "        for j in range(10):     \n",
    "            P_skipping_city = P_skipping_city + tour_matrix_1[i][j]\n",
    "    P_skipping_city = A/2 * (abs(10 - P_skipping_city))\n",
    "    \n",
    "    #####################################\n",
    "    # penalty for skipping a day COLUMN #\n",
    "    #####################################\n",
    "    P_skipping_day = 0\n",
    "    for i in range(10):\n",
    "        for j in range(10):     \n",
    "            P_skipping_day = P_skipping_day + tour_matrix_1[i][j]\n",
    "    P_skipping_day = B/2 * (abs(10 - P_skipping_day))\n",
    "    \n",
    "    ##########################\n",
    "    ### Calculate Distance ###\n",
    "    ##########################\n",
    "    dist = 0\n",
    "    for x in range(10):\n",
    "        for y in range(10):\n",
    "            for i in range(10):\n",
    "                if x!= y:\n",
    "                    if i == 0:\n",
    "                        dist = dist + dist_data[x][y] * tour_matrix[x][i] * (tour_matrix[y][i+1])\n",
    "                    elif i == 9:\n",
    "                        dist = dist + dist_data[x][y] * tour_matrix[x][i] * (tour_matrix[y][i-1])\n",
    "                    else:\n",
    "                        dist = dist + dist_data[x][y] * tour_matrix[x][i] * (tour_matrix[y][i+1] \n",
    "                                                                             + tour_matrix[y][i-1])\n",
    "    P_dist = E/2 * dist\n",
    "    \n",
    "    total_penalty = P_multiple_cities + P_multiple_day + P_skipping_city + P_skipping_day + P_dist\n",
    "        \n",
    "    return total_penalty"
   ]
  },
  {
   "cell_type": "code",
   "execution_count": 3,
   "metadata": {},
   "outputs": [
    {
     "ename": "IndentationError",
     "evalue": "expected an indented block (<ipython-input-3-739d5a1ac4d7>, line 6)",
     "output_type": "error",
     "traceback": [
      "\u001b[0;36m  File \u001b[0;32m\"<ipython-input-3-739d5a1ac4d7>\"\u001b[0;36m, line \u001b[0;32m6\u001b[0m\n\u001b[0;31m    if tour_opt_1[temp_row][temp_clmn] == 0:\u001b[0m\n\u001b[0m    ^\u001b[0m\n\u001b[0;31mIndentationError\u001b[0m\u001b[0;31m:\u001b[0m expected an indented block\n"
     ]
    }
   ],
   "source": [
    "    ##########################\n",
    "    ###    Flip Randomly   ###\n",
    "    ##########################\n",
    "    \n",
    "def flip_rand(tour_opt_1, temp_row, temp_clmn):\n",
    "    if tour_opt_1[temp_row][temp_clmn] == 0:\n",
    "        tour_opt_1[temp_row][temp_clmn] = 1\n",
    "    else:\n",
    "        tour_opt_1[temp_row][temp_clmn] = 0\n",
    "        \n",
    "    ###################################\n",
    "    ### Calculate change in penalty ###\n",
    "    ###################################\n",
    "\n",
    "def cal_change_penalty(a,b):\n",
    "    delta_c = a-b\n",
    "    return delta_c\n",
    "\n",
    "    ##########################\n",
    "    ###    Randomness      ###\n",
    "    ##########################\n",
    "\n",
    "def coin_flip(temp, del_c, tour_matrix_1, tour_opt_1, temp_row, temp_clmn):\n",
    "    A = 1/(1+np.exp(-del_c/temp))\n",
    "    rand_num = random()\n",
    "    if(A > rand_num):\n",
    "        tour_matrix_1 = tour_opt_1\n",
    "    else:\n",
    "        flip_rand(tour_opt_1, temp_row, temp_clmn)\n",
    "    return tour_matrix_1"
   ]
  },
  {
   "cell_type": "code",
   "execution_count": 4,
   "metadata": {},
   "outputs": [
    {
     "ename": "IndentationError",
     "evalue": "expected an indented block (<ipython-input-4-531e186a6213>, line 23)",
     "output_type": "error",
     "traceback": [
      "\u001b[0;36m  File \u001b[0;32m\"<ipython-input-4-531e186a6213>\"\u001b[0;36m, line \u001b[0;32m23\u001b[0m\n\u001b[0;31m    for j in range(10):\u001b[0m\n\u001b[0m    ^\u001b[0m\n\u001b[0;31mIndentationError\u001b[0m\u001b[0;31m:\u001b[0m expected an indented block\n"
     ]
    }
   ],
   "source": [
    "    #############################################################\n",
    "    #        Distace Matrix in Adjacency matrix form            #\n",
    "    #############################################################\n",
    "\n",
    "dist_data = np.asarray([(0, 104.7, 145.2, 242.9, 275.5, 56.3, 162.6, 185.6, 87.4, 97.9),\n",
    "                       (104.7, 0, 238.1, 335.8, 377.0, 63.8, 264.1, 278.5, 94.9, 190.4),\n",
    "                       (145.2, 238.1, 0, 129.2, 200.7, 194.4, 55.7, 107.5, 153.0, 41.0),\n",
    "                       (242.9, 335.8, 129.2, 0, 129.3, 292.9, 136.2, 94.1, 297.2, 169.7),\n",
    "                       (275.5, 377.0, 200.7, 129.3, 0, 356.4, 153.3, 182.1, 314.3, 212.9),\n",
    "                       (56.3, 63.8, 194.4, 292.9, 356.4, 0, 205.3, 235.8, 53.8, 140.6),\n",
    "                       (162.6, 264.1, 55.7, 136.2, 153.3, 205.3, 0, 116.4, 161.9, 60.5),\n",
    "                       (185.6, 278.5, 107.5, 94.1, 182.1, 235.8, 116.4, 0, 256.9,147.3),\n",
    "                       (87.4, 94.9, 153.0, 297.2, 314.3, 53.8, 161.9, 256.9, 0, 112.8),\n",
    "                       (97.9, 190.4, 41.0, 169.7, 212.9, 140.6, 60.5, 147.3, 112.8, 0)])\n",
    "\n",
    "    ####################################\n",
    "    #   Initializing the tour matrix   #\n",
    "    ####################################\n",
    "    \n",
    "tour_matrix = np.empty([10,10])\n",
    "tour_opt = np.empty([10,10])\n",
    "for i in range(10):\n",
    "    for j in range(10):\n",
    "        tour_matrix[i][j] = np.random.randint(2)\n",
    "\n",
    "tour_opt = tour_matrix\n",
    "print(\"Initial Tour matrix\")\n",
    "print(tour_matrix)"
   ]
  }
 ],
 "metadata": {
  "kernelspec": {
   "display_name": "Python 3",
   "language": "python",
   "name": "python3"
  },
  "language_info": {
   "codemirror_mode": {
    "name": "ipython",
    "version": 3
   },
   "file_extension": ".py",
   "mimetype": "text/x-python",
   "name": "python",
   "nbconvert_exporter": "python",
   "pygments_lexer": "ipython3",
   "version": "3.8.3"
  }
 },
 "nbformat": 4,
 "nbformat_minor": 2
}
